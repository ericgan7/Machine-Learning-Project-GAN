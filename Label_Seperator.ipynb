{
 "cells": [
  {
   "cell_type": "code",
   "execution_count": 6,
   "metadata": {},
   "outputs": [
    {
     "name": "stdout",
     "output_type": "stream",
     "text": [
      "Loading data/train.csv\n",
      "Loading data/test.csv\n",
      "Done Loading Data\n"
     ]
    },
    {
     "data": {
      "text/plain": [
       "<BarContainer object of 10 artists>"
      ]
     },
     "execution_count": 6,
     "metadata": {},
     "output_type": "execute_result"
    },
    {
     "data": {
      "image/png": "[encoded data removed]",
      "text/plain": [
       "<Figure size 432x288 with 1 Axes>"
      ]
     },
     "metadata": {
      "needs_background": "light"
     },
     "output_type": "display_data"
    }
   ],
   "source": [
    "from sklearn.linear_model import LogisticRegression # importing Sklearn's logistic regression's module\n",
    "from sklearn import preprocessing # preprossing is what we do with the data before we run the learning algorithm\n",
    "from sklearn.model_selection import train_test_split \n",
    "import numpy as np\n",
    "import math\n",
    "\n",
    "import matplotlib.pyplot as plt\n",
    "%matplotlib inline\n",
    "\n",
    "train = \"data/train.csv\"\n",
    "test = \"data/test.csv\"\n",
    "with open(train, 'r') as f:\n",
    "    print(\"Loading {}\".format(train))\n",
    "    header = True;\n",
    "    data = []\n",
    "    label = []\n",
    "    for line in f:\n",
    "        if (header):\n",
    "            header = False\n",
    "            continue\n",
    "        image = line.split(',')\n",
    "        data.append(list(map(int,image[1:])))\n",
    "        #lab = [0 for i in range(10)]\n",
    "        #lab[int(image[0])] = 1\n",
    "        label.append(image[0])\n",
    "    trainData = (np.array(data) - 127.5) / 255\n",
    "    trainLabel = np.array(label)\n",
    "    #trainLabel = trainLabel.reshape(trainLabel.shape[0], 1)\n",
    "with open(test, 'r') as f:\n",
    "    print(\"Loading {}\".format(test))\n",
    "    header = True;\n",
    "    test_data = []\n",
    "    test_label = []\n",
    "    for line in f:\n",
    "        if (header):\n",
    "            header = False\n",
    "            continue\n",
    "        image = line.split(',')\n",
    "        test_data.append(list(map(int, image[1:])))\n",
    "        #lab = [0 for i in range(10)]\n",
    "        #lab[int(image[0])] = 1\n",
    "        test_label.append(image[0])\n",
    "    testData = (np.array(test_data) - 127.5) / 255\n",
    "    testLabel = np.array(test_label)\n",
    "print(\"Done Loading Data\")\n",
    "\n",
    "\n",
    "labels = [0, 0, 0, 0, 0, 0, 0, 0, 0, 0]\n",
    "for i in label:\n",
    "    labels[int(i)] += 1\n",
    "\n",
    "plt.bar([0, 1, 2, 3, 4, 5, 6, 7, 8, 9], labels)"
   ]
  },
  {
   "cell_type": "code",
   "execution_count": null,
   "metadata": {},
   "outputs": [],
   "source": []
  }
 ],
 "metadata": {
  "kernelspec": {
   "display_name": "Python 3",
   "language": "python",
   "name": "python3"
  },
  "language_info": {
   "codemirror_mode": {
    "name": "ipython",
    "version": 3
   },
   "file_extension": ".py",
   "mimetype": "text/x-python",
   "name": "python",
   "nbconvert_exporter": "python",
   "pygments_lexer": "ipython3",
   "version": "3.7.1"
  }
 },
 "nbformat": 4,
 "nbformat_minor": 2
}
