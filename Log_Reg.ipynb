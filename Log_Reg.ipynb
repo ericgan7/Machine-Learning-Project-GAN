{
 "cells": [
  {
   "cell_type": "code",
   "execution_count": 18,
   "metadata": {},
   "outputs": [
    {
     "name": "stdout",
     "output_type": "stream",
     "text": [
      "Loading data/train.csv\n",
      "Loading data/test.csv\n",
      "Done Loading Data\n",
      "(60000, 784) (60000,)\n",
      "['2' '9' '6' ... '8' '8' '7']\n",
      "Created logreg\n",
      "Begin fitting\n"
     ]
    },
    {
     "name": "stderr",
     "output_type": "stream",
     "text": [
      "C:\\Users\\Brandon\\Anaconda3\\lib\\site-packages\\sklearn\\linear_model\\sag.py:334: ConvergenceWarning: The max_iter was reached which means the coef_ did not converge\n",
      "  \"the coef_ did not converge\", ConvergenceWarning)\n"
     ]
    },
    {
     "name": "stdout",
     "output_type": "stream",
     "text": [
      "Finished fitting\n",
      "Finished Predicting\n",
      "Finished scoring\n",
      "Accuracy on training data = 0.881717\n",
      "Finished Predicting\n",
      "Finished scoring\n",
      "Accuracy on test data = 0.850600\n",
      "[0.8817166666666667] [0.8506]\n"
     ]
    }
   ],
   "source": [
    "from sklearn.linear_model import LogisticRegression # importing Sklearn's logistic regression's module\n",
    "from sklearn import preprocessing # preprossing is what we do with the data before we run the learning algorithm\n",
    "from sklearn.model_selection import train_test_split \n",
    "import numpy as np\n",
    "import math\n",
    "\n",
    "import matplotlib.pyplot as plt\n",
    "%matplotlib inline\n",
    "\n",
    "train = \"data/train.csv\"\n",
    "test = \"data/test.csv\"\n",
    "with open(train, 'r') as f:\n",
    "    print(\"Loading {}\".format(train))\n",
    "    header = True;\n",
    "    data = []\n",
    "    label = []\n",
    "    for line in f:\n",
    "        if (header):\n",
    "            header = False\n",
    "            continue\n",
    "        image = line.split(',')\n",
    "        data.append(list(map(int,image[1:])))\n",
    "        #lab = [0 for i in range(10)]\n",
    "        #lab[int(image[0])] = 1\n",
    "        label.append(image[0])\n",
    "    trainData = (np.array(data) - 127.5) /255\n",
    "    trainLabel = np.array(label)\n",
    "    #trainLabel = trainLabel.reshape(trainLabel.shape[0], 1)\n",
    "with open(test, 'r') as f:\n",
    "    print(\"Loading {}\".format(test))\n",
    "    header = True;\n",
    "    data = []\n",
    "    label = []\n",
    "    for line in f:\n",
    "        if (header):\n",
    "            header = False\n",
    "            continue\n",
    "        image = line.split(',')\n",
    "        data.append(list(map(int, image[1:])))\n",
    "        #lab = [0 for i in range(10)]\n",
    "        #lab[int(image[0])] = 1\n",
    "        label.append(image[0])\n",
    "    testData = (np.array(data) - 127.5) / 255\n",
    "    testLabel = np.array(label)\n",
    "print(\"Done Loading Data\")\n",
    "\n",
    "\n",
    "#load_data(\"data/train.csv\", \"data/test.csv\")\n",
    "print(trainData.shape, trainLabel.shape)\n",
    "print(trainLabel)\n",
    "\n",
    "all_c = [0.01, 0.1, 1]\n",
    "train_acc = []\n",
    "test_acc = []\n",
    "\n",
    "\n",
    "#iters = [10, 100, 1000]\n",
    "#for i in iters:\n",
    "#    print(\"Created logreg\")\n",
    "    #c = 100 * 10**i\n",
    "    #all_c.append(c)\n",
    "#    logreg = LogisticRegression(solver=\"saga\",  multi_class=\"multinomial\", max_iter = i)\n",
    "#    print(\"Begin fitting\")\n",
    "#    logreg.fit(trainData, trainLabel)\n",
    "#    print(\"Finished fitting\")\n",
    "#    yhat = logreg.predict(trainData)\n",
    "#    print(\"Finished Predicting\")\n",
    "#    acc = logreg.score(trainData, trainLabel)\n",
    "#    train_acc.append(acc)\n",
    "#    print(\"Finished scoring\")\n",
    "#    print(\"Accuracy on training data = %f\" % acc)\n",
    "\n",
    "#    yhat_test = logreg.predict(testData)\n",
    "#    print(\"Finished Predicting\")\n",
    "#    acc_test = logreg.score(testData, testLabel)\n",
    "#    test_acc.append(acc_test)\n",
    "#    print(\"Finished scoring\")\n",
    "#    print(\"Accuracy on test data = %f\" % acc_test)\n",
    "    \n",
    "print(\"Created logreg\")\n",
    "#c = 100 * 10**i\n",
    "#all_c.append(c)\n",
    "logreg = LogisticRegression(solver=\"saga\", multi_class=\"multinomial\", C=10000000)\n",
    "print(\"Begin fitting\")\n",
    "logreg.fit(trainData, trainLabel)\n",
    "print(\"Finished fitting\")\n",
    "yhat = logreg.predict(trainData)\n",
    "print(\"Finished Predicting\")\n",
    "acc = logreg.score(trainData, trainLabel)\n",
    "train_acc.append(acc)\n",
    "print(\"Finished scoring\")\n",
    "print(\"Accuracy on training data = %f\" % acc)\n",
    "\n",
    "yhat_test = logreg.predict(testData)\n",
    "print(\"Finished Predicting\")\n",
    "acc_test = logreg.score(testData, testLabel)\n",
    "test_acc.append(acc_test)\n",
    "print(\"Finished scoring\")\n",
    "print(\"Accuracy on test data = %f\" % acc_test)\n",
    "\n",
    "print(train_acc, test_acc)\n"
   ]
  },
  {
   "cell_type": "code",
   "execution_count": 38,
   "metadata": {},
   "outputs": [
    {
     "data": {
      "text/plain": [
       "Text(0, 0.5, 'Accuracy')"
      ]
     },
     "execution_count": 38,
     "metadata": {},
     "output_type": "execute_result"
    },
    {
     "data": {
      "image/png": "[encoded data removed]",
      "text/plain": [
       "<Figure size 432x288 with 1 Axes>"
      ]
     },
     "metadata": {
      "needs_background": "light"
     },
     "output_type": "display_data"
    }
   ],
   "source": [
    "plt.bar([1, 2], [train_acc[0], test_acc[0]])\n",
    "plt.title(\"Accuracy with Mean Centering\")\n",
    "plt.xlabel('Training                                               Test')\n",
    "plt.ylabel('Accuracy')"
   ]
  },
  {
   "cell_type": "code",
   "execution_count": null,
   "metadata": {
    "scrolled": true
   },
   "outputs": [],
   "source": [
    "#iters.append \n",
    "plt.scatter(iters,train_acc, c='g', s=2)\n",
    "plt.title(\"Accuracy vs Iterations\")\n",
    "plt.xlabel('Iterations')\n",
    "plt.ylabel('Accuracy')\n",
    "#plt.legend(['Training Accuracy', 'Test Accuracy'], loc='lower right')\n",
    "\n",
    "plt.scatter(iters,test_acc,c='r', s=2)\n",
    "plt.xlabel('Iterations')\n",
    "plt.ylabel('Accuracy')\n",
    "plt.legend(['Training Accuracy', 'Test Accuracy'], loc='right')\n",
    "plt.show()"
   ]
  },
  {
   "cell_type": "code",
   "execution_count": 20,
   "metadata": {},
   "outputs": [
    {
     "name": "stdout",
     "output_type": "stream",
     "text": [
      "Created logreg\n",
      "Begin fitting\n"
     ]
    },
    {
     "name": "stderr",
     "output_type": "stream",
     "text": [
      "C:\\Users\\Brandon\\Anaconda3\\lib\\site-packages\\sklearn\\linear_model\\sag.py:334: ConvergenceWarning: The max_iter was reached which means the coef_ did not converge\n",
      "  \"the coef_ did not converge\", ConvergenceWarning)\n"
     ]
    },
    {
     "name": "stdout",
     "output_type": "stream",
     "text": [
      "Finished fitting\n",
      "Finished Predicting\n",
      "Finished scoring\n",
      "Accuracy on training data = 0.856233\n",
      "Finished Predicting\n",
      "Finished scoring\n",
      "Accuracy on test data = 0.852800\n",
      "Created logreg\n",
      "Begin fitting\n"
     ]
    },
    {
     "name": "stderr",
     "output_type": "stream",
     "text": [
      "C:\\Users\\Brandon\\Anaconda3\\lib\\site-packages\\sklearn\\linear_model\\sag.py:334: ConvergenceWarning: The max_iter was reached which means the coef_ did not converge\n",
      "  \"the coef_ did not converge\", ConvergenceWarning)\n"
     ]
    },
    {
     "name": "stdout",
     "output_type": "stream",
     "text": [
      "Finished fitting\n",
      "Finished Predicting\n",
      "Finished scoring\n",
      "Accuracy on training data = 0.879883\n",
      "Finished Predicting\n",
      "Finished scoring\n",
      "Accuracy on test data = 0.854100\n"
     ]
    }
   ],
   "source": [
    "cVals = [0.01, 100]\n",
    "train_acc2 = []\n",
    "test_acc2 = []\n",
    "for c in cVals:\n",
    "    print(\"Created logreg\")\n",
    "    #c = 100 * 10**i\n",
    "    #all_c.append(c)\n",
    "    logreg2 = LogisticRegression(solver=\"saga\",  multi_class=\"multinomial\", C=c)\n",
    "    print(\"Begin fitting\")\n",
    "    logreg2.fit(trainData, trainLabel)\n",
    "    print(\"Finished fitting\")\n",
    "    yhat = logreg2.predict(trainData)\n",
    "    print(\"Finished Predicting\")\n",
    "    acc = logreg2.score(trainData, trainLabel)\n",
    "    train_acc2.append(acc)\n",
    "    print(\"Finished scoring\")\n",
    "    print(\"Accuracy on training data = %f\" % acc)\n",
    "\n",
    "    yhat_test = logreg2.predict(testData)\n",
    "    print(\"Finished Predicting\")\n",
    "    acc_test = logreg2.score(testData, testLabel)\n",
    "    test_acc2.append(acc_test)\n",
    "    print(\"Finished scoring\")\n",
    "    print(\"Accuracy on test data = %f\" % acc_test)\n",
    "    "
   ]
  },
  {
   "cell_type": "code",
   "execution_count": 34,
   "metadata": {},
   "outputs": [
    {
     "data": {
      "text/plain": [
       "Text(0, 0.5, 'Accuracy')"
      ]
     },
     "execution_count": 34,
     "metadata": {},
     "output_type": "execute_result"
    },
    {
     "data": {
      "image/png": "[encoded data removed]",
      "text/plain": [
       "<Figure size 432x288 with 1 Axes>"
      ]
     },
     "metadata": {
      "needs_background": "light"
     },
     "output_type": "display_data"
    }
   ],
   "source": [
    "plt.bar([1, 2], [train_acc2[0], test_acc2[0]])\n",
    "plt.title(\"Accuracy with L2 Regularization, C = 0.01\")\n",
    "plt.xlabel('Training                                               Test')\n",
    "plt.ylabel('Accuracy')"
   ]
  },
  {
   "cell_type": "code",
   "execution_count": 35,
   "metadata": {},
   "outputs": [
    {
     "data": {
      "text/plain": [
       "Text(0, 0.5, 'Accuracy')"
      ]
     },
     "execution_count": 35,
     "metadata": {},
     "output_type": "execute_result"
    },
    {
     "data": {
      "image/png": "[encoded data removed]",
      "text/plain": [
       "<Figure size 432x288 with 1 Axes>"
      ]
     },
     "metadata": {
      "needs_background": "light"
     },
     "output_type": "display_data"
    }
   ],
   "source": [
    "plt.bar([1, 2], [train_acc2[1], test_acc2[1]])\n",
    "plt.title(\"Accuracy with L2 Regularization, C = 100\")\n",
    "plt.xlabel('Training                                               Test')\n",
    "plt.ylabel('Accuracy')"
   ]
  },
  {
   "cell_type": "code",
   "execution_count": 21,
   "metadata": {},
   "outputs": [
    {
     "name": "stdout",
     "output_type": "stream",
     "text": [
      "Created logreg\n",
      "Begin fitting\n"
     ]
    },
    {
     "name": "stderr",
     "output_type": "stream",
     "text": [
      "C:\\Users\\Brandon\\Anaconda3\\lib\\site-packages\\sklearn\\linear_model\\sag.py:334: ConvergenceWarning: The max_iter was reached which means the coef_ did not converge\n",
      "  \"the coef_ did not converge\", ConvergenceWarning)\n"
     ]
    },
    {
     "name": "stdout",
     "output_type": "stream",
     "text": [
      "Finished fitting\n",
      "Finished Predicting\n",
      "Finished scoring\n",
      "Accuracy on training data = 0.817867\n",
      "Finished Predicting\n",
      "Finished scoring\n",
      "Accuracy on test data = 0.815300\n",
      "Created logreg\n",
      "Begin fitting\n"
     ]
    },
    {
     "name": "stderr",
     "output_type": "stream",
     "text": [
      "C:\\Users\\Brandon\\Anaconda3\\lib\\site-packages\\sklearn\\linear_model\\sag.py:334: ConvergenceWarning: The max_iter was reached which means the coef_ did not converge\n",
      "  \"the coef_ did not converge\", ConvergenceWarning)\n"
     ]
    },
    {
     "name": "stdout",
     "output_type": "stream",
     "text": [
      "Finished fitting\n",
      "Finished Predicting\n",
      "Finished scoring\n",
      "Accuracy on training data = 0.878183\n",
      "Finished Predicting\n",
      "Finished scoring\n",
      "Accuracy on test data = 0.855800\n"
     ]
    }
   ],
   "source": [
    "cVals = [0.01, 100]\n",
    "train_acc3 = []\n",
    "test_acc3 = []\n",
    "for c in cVals:\n",
    "    print(\"Created logreg\")\n",
    "    #c = 100 * 10**i\n",
    "    #all_c.append(c)\n",
    "    logreg3 = LogisticRegression(solver=\"saga\",  penalty=\"l1\", multi_class=\"multinomial\", C=c)\n",
    "    print(\"Begin fitting\")\n",
    "    logreg3.fit(trainData, trainLabel)\n",
    "    print(\"Finished fitting\")\n",
    "    yhat = logreg3.predict(trainData)\n",
    "    print(\"Finished Predicting\")\n",
    "    acc = logreg3.score(trainData, trainLabel)\n",
    "    train_acc3.append(acc)\n",
    "    print(\"Finished scoring\")\n",
    "    print(\"Accuracy on training data = %f\" % acc)\n",
    "\n",
    "    yhat_test = logreg3.predict(testData)\n",
    "    print(\"Finished Predicting\")\n",
    "    acc_test = logreg3.score(testData, testLabel)\n",
    "    test_acc3.append(acc_test)\n",
    "    print(\"Finished scoring\")\n",
    "    print(\"Accuracy on test data = %f\" % acc_test)"
   ]
  },
  {
   "cell_type": "code",
   "execution_count": 36,
   "metadata": {},
   "outputs": [
    {
     "data": {
      "text/plain": [
       "Text(0, 0.5, 'Accuracy')"
      ]
     },
     "execution_count": 36,
     "metadata": {},
     "output_type": "execute_result"
    },
    {
     "data": {
      "image/png": "[encoded data removed]",
      "text/plain": [
       "<Figure size 432x288 with 1 Axes>"
      ]
     },
     "metadata": {
      "needs_background": "light"
     },
     "output_type": "display_data"
    }
   ],
   "source": [
    "plt.bar([1, 2], [train_acc3[0], test_acc3[0]])\n",
    "plt.title(\"Accuracy with L1 Regularization, C = 0.01\")\n",
    "plt.xlabel('Training                                               Test')\n",
    "plt.ylabel('Accuracy')"
   ]
  },
  {
   "cell_type": "code",
   "execution_count": 37,
   "metadata": {},
   "outputs": [
    {
     "data": {
      "text/plain": [
       "Text(0, 0.5, 'Accuracy')"
      ]
     },
     "execution_count": 37,
     "metadata": {},
     "output_type": "execute_result"
    },
    {
     "data": {
      "image/png": "[encoded data removed]",
      "text/plain": [
       "<Figure size 432x288 with 1 Axes>"
      ]
     },
     "metadata": {
      "needs_background": "light"
     },
     "output_type": "display_data"
    }
   ],
   "source": [
    "plt.bar([1, 2], [train_acc3[1], test_acc3[1]])\n",
    "plt.title(\"Accuracy with L1 Regularization, C = 100\")\n",
    "plt.xlabel('Training                                               Test')\n",
    "plt.ylabel('Accuracy')"
   ]
  },
  {
   "cell_type": "code",
   "execution_count": 7,
   "metadata": {},
   "outputs": [
    {
     "name": "stdout",
     "output_type": "stream",
     "text": [
      "Created logreg\n",
      "Begin fitting\n"
     ]
    },
    {
     "name": "stderr",
     "output_type": "stream",
     "text": [
      "C:\\Users\\Brandon\\Anaconda3\\lib\\site-packages\\sklearn\\linear_model\\sag.py:334: ConvergenceWarning: The max_iter was reached which means the coef_ did not converge\n",
      "  \"the coef_ did not converge\", ConvergenceWarning)\n"
     ]
    },
    {
     "name": "stdout",
     "output_type": "stream",
     "text": [
      "Finished fitting\n",
      "Finished Predicting\n",
      "Finished scoring\n",
      "Accuracy on training data = 0.878183\n",
      "Finished Predicting\n",
      "Finished scoring\n",
      "Accuracy on test data = 0.855600\n"
     ]
    }
   ],
   "source": [
    "\n",
    "print(\"Created logreg\")\n",
    "#c = 100 * 10**i\n",
    "#all_c.append(c)\n",
    "logreg2 = LogisticRegression(solver=\"saga\", penalty=\"l1\", multi_class=\"multinomial\")\n",
    "print(\"Begin fitting\")\n",
    "logreg2.fit(trainData, trainLabel)\n",
    "print(\"Finished fitting\")\n",
    "yhat = logreg2.predict(trainData)\n",
    "print(\"Finished Predicting\")\n",
    "acc = logreg2.score(trainData, trainLabel)\n",
    "train_acc2.append(acc)\n",
    "print(\"Finished scoring\")\n",
    "print(\"Accuracy on training data = %f\" % acc)\n",
    "\n",
    "yhat_test = logreg2.predict(testData)\n",
    "print(\"Finished Predicting\")\n",
    "acc_test = logreg2.score(testData, testLabel)\n",
    "test_acc2.append(acc_test)\n",
    "print(\"Finished scoring\")\n",
    "print(\"Accuracy on test data = %f\" % acc_test)\n",
    "    "
   ]
  },
  {
   "cell_type": "code",
   "execution_count": 11,
   "metadata": {},
   "outputs": [
    {
     "name": "stdout",
     "output_type": "stream",
     "text": [
      "Created logreg\n",
      "Begin fitting\n"
     ]
    },
    {
     "name": "stderr",
     "output_type": "stream",
     "text": [
      "C:\\Users\\Brandon\\Anaconda3\\lib\\site-packages\\sklearn\\linear_model\\sag.py:334: ConvergenceWarning: The max_iter was reached which means the coef_ did not converge\n",
      "  \"the coef_ did not converge\", ConvergenceWarning)\n"
     ]
    },
    {
     "name": "stdout",
     "output_type": "stream",
     "text": [
      "Finished fitting\n",
      "Finished Predicting\n",
      "Finished scoring\n",
      "Accuracy on training data = 0.879867\n",
      "Finished Predicting\n",
      "Finished scoring\n",
      "Accuracy on test data = 0.854100\n"
     ]
    }
   ],
   "source": [
    "print(\"Created logreg\")\n",
    "#c = 100 * 10**i\n",
    "#all_c.append(c)\n",
    "logreg2 = LogisticRegression(solver=\"saga\", multi_class=\"multinomial\")\n",
    "print(\"Begin fitting\")\n",
    "logreg2.fit(trainData, trainLabel)\n",
    "print(\"Finished fitting\")\n",
    "yhat = logreg2.predict(trainData)\n",
    "print(\"Finished Predicting\")\n",
    "acc3 = logreg2.score(trainData, trainLabel)\n",
    "train_acc3.append(acc3)\n",
    "print(\"Finished scoring\")\n",
    "print(\"Accuracy on training data = %f\" % acc3)\n",
    "\n",
    "yhat_test = logreg2.predict(testData)\n",
    "print(\"Finished Predicting\")\n",
    "acc_test3 = logreg2.score(testData, testLabel)\n",
    "test_acc3.append(acc_test3)\n",
    "print(\"Finished scoring\")\n",
    "print(\"Accuracy on test data = %f\" % acc_test3)"
   ]
  },
  {
   "cell_type": "code",
   "execution_count": 39,
   "metadata": {},
   "outputs": [
    {
     "data": {
      "text/plain": [
       "Text(0, 0.5, 'Accuracy')"
      ]
     },
     "execution_count": 39,
     "metadata": {},
     "output_type": "execute_result"
    },
    {
     "data": {
      "image/png": "[encoded data removed]",
      "text/plain": [
       "<Figure size 432x288 with 1 Axes>"
      ]
     },
     "metadata": {
      "needs_background": "light"
     },
     "output_type": "display_data"
    }
   ],
   "source": [
    "plt.bar([1, 2], [0.87548, 0.8505])\n",
    "plt.title(\"Accuracy with Logistic Regression\")\n",
    "plt.xlabel('Training                                               Test')\n",
    "plt.ylabel('Accuracy')"
   ]
  },
  {
   "cell_type": "code",
   "execution_count": null,
   "metadata": {},
   "outputs": [],
   "source": []
  }
 ],
 "metadata": {
  "kernelspec": {
   "display_name": "Python 3",
   "language": "python",
   "name": "python3"
  },
  "language_info": {
   "codemirror_mode": {
    "name": "ipython",
    "version": 3
   },
   "file_extension": ".py",
   "mimetype": "text/x-python",
   "name": "python",
   "nbconvert_exporter": "python",
   "pygments_lexer": "ipython3",
   "version": "3.7.1"
  }
 },
 "nbformat": 4,
 "nbformat_minor": 2
}
